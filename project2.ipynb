{
 "cells": [
  {
   "cell_type": "code",
   "execution_count": null,
   "id": "129bd2d6",
   "metadata": {},
   "outputs": [],
   "source": []
  },
  {
   "cell_type": "code",
   "execution_count": null,
   "id": "cda2eee4",
   "metadata": {},
   "outputs": [],
   "source": [
    "def open_library_door():\n",
    "    flag = True\n",
    "    print(f\"Welccome To {Harry.name_of_library} Library .... \")\n",
    "    while flag != False:\n",
    "        print(\"choose what you wanna do from [Display Books , Lend a Book , Add a Book , Return a Book , out]\")\n",
    "        User_choice = input().lower()\n",
    "        if User_choice == \"display books\":\n",
    "            Harry.display_available_Books()\n",
    "        elif User_choice == \"lend a book\":\n",
    "            name_of_lended_book = input(\"Please Enter name of book !!\")\n",
    "            Harry.booksLending(name_of_lended_book)\n",
    "        elif User_choice == \"add a book\":\n",
    "            name_of_added_book = input(\"Please Enter the name of adedd book!! \")\n",
    "            Harry.add_Book(name_of_added_book)\n",
    "        elif User_choice == \"return a book\":\n",
    "            name_of_book_borrowed = input(\"Please enter name of returned book!!\")\n",
    "            Harry.return_borrowed_book(name_of_borrowed_book)\n",
    "        elif User_choice == \"out\":\n",
    "            print(\"Good Bye see you next time\")\n",
    "            flag = False\n",
    "        else:\n",
    "            print(\"Please Enter one of [Display Books , Lend a Book , Add a Book , Return a Book , out]\")"
   ]
  },
  {
   "cell_type": "code",
   "execution_count": null,
   "id": "624c1dcc",
   "metadata": {},
   "outputs": [],
   "source": []
  }
 ],
 "metadata": {
  "kernelspec": {
   "display_name": "Python 3 (ipykernel)",
   "language": "python",
   "name": "python3"
  },
  "language_info": {
   "codemirror_mode": {
    "name": "ipython",
    "version": 3
   },
   "file_extension": ".py",
   "mimetype": "text/x-python",
   "name": "python",
   "nbconvert_exporter": "python",
   "pygments_lexer": "ipython3",
   "version": "3.11.3"
  }
 },
 "nbformat": 4,
 "nbformat_minor": 5
}
